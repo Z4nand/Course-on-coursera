{
 "cells": [
  {
   "cell_type": "code",
   "execution_count": 295,
   "id": "75b9bda9",
   "metadata": {},
   "outputs": [],
   "source": [
    "import pandas as pd\n",
    "import numpy as np\n",
    "import matplotlib.pyplot as plt\n",
    "import seaborn as sns\n",
    "import scipy.spatial\n",
    "from collections import Counter\n",
    "from sklearn.model_selection import learning_curve \n",
    "from sklearn.metrics import make_scorer\n",
    "from sklearn.linear_model import \\\n",
    "    Lasso, Ridge, LassoCV,LinearRegression\n",
    "from sklearn.preprocessing import \\\n",
    "    StandardScaler, PolynomialFeatures\n",
    "from sklearn.model_selection import \\\n",
    "    KFold, RepeatedKFold, GridSearchCV, \\\n",
    "    cross_validate, train_test_split\n",
    "%matplotlib inline"
   ]
  },
  {
   "cell_type": "code",
   "execution_count": 296,
   "id": "549d6d64",
   "metadata": {},
   "outputs": [
    {
     "data": {
      "text/html": [
       "<div>\n",
       "<style scoped>\n",
       "    .dataframe tbody tr th:only-of-type {\n",
       "        vertical-align: middle;\n",
       "    }\n",
       "\n",
       "    .dataframe tbody tr th {\n",
       "        vertical-align: top;\n",
       "    }\n",
       "\n",
       "    .dataframe thead th {\n",
       "        text-align: right;\n",
       "    }\n",
       "</style>\n",
       "<table border=\"1\" class=\"dataframe\">\n",
       "  <thead>\n",
       "    <tr style=\"text-align: right;\">\n",
       "      <th></th>\n",
       "      <th>Тип вина</th>\n",
       "      <th>Фиксированная кислотность</th>\n",
       "      <th>Летучая кислотность</th>\n",
       "      <th>Лимонная кислота</th>\n",
       "      <th>Остаточный сахар</th>\n",
       "      <th>Хлориды</th>\n",
       "      <th>Свободный диоксид серы</th>\n",
       "      <th>Общий диоксид серы</th>\n",
       "      <th>Плотность вина</th>\n",
       "      <th>pH</th>\n",
       "      <th>Сульфаты</th>\n",
       "      <th>Содеражние алкоголя</th>\n",
       "      <th>Качество вина</th>\n",
       "    </tr>\n",
       "  </thead>\n",
       "  <tbody>\n",
       "    <tr>\n",
       "      <th>0</th>\n",
       "      <td>0</td>\n",
       "      <td>8.1</td>\n",
       "      <td>0.240</td>\n",
       "      <td>0.26</td>\n",
       "      <td>11.0</td>\n",
       "      <td>0.043</td>\n",
       "      <td>41.0</td>\n",
       "      <td>211.0</td>\n",
       "      <td>0.99676</td>\n",
       "      <td>3.11</td>\n",
       "      <td>0.49</td>\n",
       "      <td>10.0</td>\n",
       "      <td>6</td>\n",
       "    </tr>\n",
       "    <tr>\n",
       "      <th>1</th>\n",
       "      <td>0</td>\n",
       "      <td>8.6</td>\n",
       "      <td>0.200</td>\n",
       "      <td>0.42</td>\n",
       "      <td>1.5</td>\n",
       "      <td>0.041</td>\n",
       "      <td>35.0</td>\n",
       "      <td>125.0</td>\n",
       "      <td>0.99250</td>\n",
       "      <td>3.11</td>\n",
       "      <td>0.49</td>\n",
       "      <td>11.4</td>\n",
       "      <td>7</td>\n",
       "    </tr>\n",
       "    <tr>\n",
       "      <th>2</th>\n",
       "      <td>1</td>\n",
       "      <td>10.7</td>\n",
       "      <td>0.670</td>\n",
       "      <td>0.22</td>\n",
       "      <td>2.7</td>\n",
       "      <td>0.107</td>\n",
       "      <td>17.0</td>\n",
       "      <td>34.0</td>\n",
       "      <td>1.00040</td>\n",
       "      <td>3.28</td>\n",
       "      <td>0.98</td>\n",
       "      <td>9.9</td>\n",
       "      <td>6</td>\n",
       "    </tr>\n",
       "    <tr>\n",
       "      <th>3</th>\n",
       "      <td>1</td>\n",
       "      <td>7.9</td>\n",
       "      <td>0.340</td>\n",
       "      <td>0.36</td>\n",
       "      <td>1.9</td>\n",
       "      <td>0.065</td>\n",
       "      <td>5.0</td>\n",
       "      <td>10.0</td>\n",
       "      <td>0.99419</td>\n",
       "      <td>3.27</td>\n",
       "      <td>0.54</td>\n",
       "      <td>11.2</td>\n",
       "      <td>7</td>\n",
       "    </tr>\n",
       "    <tr>\n",
       "      <th>4</th>\n",
       "      <td>1</td>\n",
       "      <td>10.3</td>\n",
       "      <td>0.410</td>\n",
       "      <td>0.42</td>\n",
       "      <td>2.4</td>\n",
       "      <td>0.213</td>\n",
       "      <td>6.0</td>\n",
       "      <td>14.0</td>\n",
       "      <td>0.99940</td>\n",
       "      <td>3.19</td>\n",
       "      <td>0.62</td>\n",
       "      <td>9.5</td>\n",
       "      <td>6</td>\n",
       "    </tr>\n",
       "    <tr>\n",
       "      <th>...</th>\n",
       "      <td>...</td>\n",
       "      <td>...</td>\n",
       "      <td>...</td>\n",
       "      <td>...</td>\n",
       "      <td>...</td>\n",
       "      <td>...</td>\n",
       "      <td>...</td>\n",
       "      <td>...</td>\n",
       "      <td>...</td>\n",
       "      <td>...</td>\n",
       "      <td>...</td>\n",
       "      <td>...</td>\n",
       "      <td>...</td>\n",
       "    </tr>\n",
       "    <tr>\n",
       "      <th>6458</th>\n",
       "      <td>0</td>\n",
       "      <td>7.2</td>\n",
       "      <td>0.210</td>\n",
       "      <td>1.00</td>\n",
       "      <td>1.1</td>\n",
       "      <td>0.154</td>\n",
       "      <td>46.0</td>\n",
       "      <td>114.0</td>\n",
       "      <td>0.99310</td>\n",
       "      <td>2.95</td>\n",
       "      <td>0.43</td>\n",
       "      <td>9.2</td>\n",
       "      <td>6</td>\n",
       "    </tr>\n",
       "    <tr>\n",
       "      <th>6459</th>\n",
       "      <td>0</td>\n",
       "      <td>6.9</td>\n",
       "      <td>0.190</td>\n",
       "      <td>0.35</td>\n",
       "      <td>1.7</td>\n",
       "      <td>0.036</td>\n",
       "      <td>33.0</td>\n",
       "      <td>101.0</td>\n",
       "      <td>0.99315</td>\n",
       "      <td>3.21</td>\n",
       "      <td>0.54</td>\n",
       "      <td>10.8</td>\n",
       "      <td>7</td>\n",
       "    </tr>\n",
       "    <tr>\n",
       "      <th>6460</th>\n",
       "      <td>1</td>\n",
       "      <td>9.0</td>\n",
       "      <td>0.450</td>\n",
       "      <td>0.49</td>\n",
       "      <td>2.6</td>\n",
       "      <td>0.084</td>\n",
       "      <td>21.0</td>\n",
       "      <td>75.0</td>\n",
       "      <td>0.99870</td>\n",
       "      <td>3.35</td>\n",
       "      <td>0.57</td>\n",
       "      <td>9.7</td>\n",
       "      <td>5</td>\n",
       "    </tr>\n",
       "    <tr>\n",
       "      <th>6461</th>\n",
       "      <td>0</td>\n",
       "      <td>9.4</td>\n",
       "      <td>0.280</td>\n",
       "      <td>0.30</td>\n",
       "      <td>1.6</td>\n",
       "      <td>0.045</td>\n",
       "      <td>36.0</td>\n",
       "      <td>139.0</td>\n",
       "      <td>0.99534</td>\n",
       "      <td>3.11</td>\n",
       "      <td>0.49</td>\n",
       "      <td>9.3</td>\n",
       "      <td>5</td>\n",
       "    </tr>\n",
       "    <tr>\n",
       "      <th>6462</th>\n",
       "      <td>0</td>\n",
       "      <td>4.8</td>\n",
       "      <td>0.225</td>\n",
       "      <td>0.38</td>\n",
       "      <td>1.2</td>\n",
       "      <td>0.074</td>\n",
       "      <td>47.0</td>\n",
       "      <td>130.0</td>\n",
       "      <td>0.99132</td>\n",
       "      <td>3.31</td>\n",
       "      <td>0.40</td>\n",
       "      <td>10.3</td>\n",
       "      <td>6</td>\n",
       "    </tr>\n",
       "  </tbody>\n",
       "</table>\n",
       "<p>6463 rows × 13 columns</p>\n",
       "</div>"
      ],
      "text/plain": [
       "      Тип вина  Фиксированная кислотность  Летучая кислотность  \\\n",
       "0            0                        8.1                0.240   \n",
       "1            0                        8.6                0.200   \n",
       "2            1                       10.7                0.670   \n",
       "3            1                        7.9                0.340   \n",
       "4            1                       10.3                0.410   \n",
       "...        ...                        ...                  ...   \n",
       "6458         0                        7.2                0.210   \n",
       "6459         0                        6.9                0.190   \n",
       "6460         1                        9.0                0.450   \n",
       "6461         0                        9.4                0.280   \n",
       "6462         0                        4.8                0.225   \n",
       "\n",
       "      Лимонная кислота  Остаточный сахар  Хлориды  Свободный диоксид серы  \\\n",
       "0                 0.26              11.0    0.043                    41.0   \n",
       "1                 0.42               1.5    0.041                    35.0   \n",
       "2                 0.22               2.7    0.107                    17.0   \n",
       "3                 0.36               1.9    0.065                     5.0   \n",
       "4                 0.42               2.4    0.213                     6.0   \n",
       "...                ...               ...      ...                     ...   \n",
       "6458              1.00               1.1    0.154                    46.0   \n",
       "6459              0.35               1.7    0.036                    33.0   \n",
       "6460              0.49               2.6    0.084                    21.0   \n",
       "6461              0.30               1.6    0.045                    36.0   \n",
       "6462              0.38               1.2    0.074                    47.0   \n",
       "\n",
       "      Общий диоксид серы  Плотность вина    pH  Сульфаты  Содеражние алкоголя  \\\n",
       "0                  211.0         0.99676  3.11      0.49                 10.0   \n",
       "1                  125.0         0.99250  3.11      0.49                 11.4   \n",
       "2                   34.0         1.00040  3.28      0.98                  9.9   \n",
       "3                   10.0         0.99419  3.27      0.54                 11.2   \n",
       "4                   14.0         0.99940  3.19      0.62                  9.5   \n",
       "...                  ...             ...   ...       ...                  ...   \n",
       "6458               114.0         0.99310  2.95      0.43                  9.2   \n",
       "6459               101.0         0.99315  3.21      0.54                 10.8   \n",
       "6460                75.0         0.99870  3.35      0.57                  9.7   \n",
       "6461               139.0         0.99534  3.11      0.49                  9.3   \n",
       "6462               130.0         0.99132  3.31      0.40                 10.3   \n",
       "\n",
       "      Качество вина  \n",
       "0                 6  \n",
       "1                 7  \n",
       "2                 6  \n",
       "3                 7  \n",
       "4                 6  \n",
       "...             ...  \n",
       "6458              6  \n",
       "6459              7  \n",
       "6460              5  \n",
       "6461              5  \n",
       "6462              6  \n",
       "\n",
       "[6463 rows x 13 columns]"
      ]
     },
     "execution_count": 296,
     "metadata": {},
     "output_type": "execute_result"
    }
   ],
   "source": [
    "df = pd.read_csv(r\"C:\\Users\\nikit\\Documents\\machine-learning\\1-lab\\winequalityN_preprocessed.csv\", sep=\",\")\n",
    "df"
   ]
  },
  {
   "cell_type": "markdown",
   "id": "d2602525",
   "metadata": {},
   "source": [
    "## Нормализация и подготовка данных"
   ]
  },
  {
   "cell_type": "code",
   "execution_count": 297,
   "id": "f55f5bde",
   "metadata": {},
   "outputs": [
    {
     "data": {
      "text/plain": [
       "array([10. , 11.4,  9.9, ...,  9.7,  9.3, 10.3])"
      ]
     },
     "execution_count": 297,
     "metadata": {},
     "output_type": "execute_result"
    }
   ],
   "source": [
    "df_edited = df.drop(['Содеражние алкоголя'], axis=1)\n",
    "X = df_edited.values\n",
    "y = df.iloc[:, -2].values\n",
    "y"
   ]
  },
  {
   "cell_type": "code",
   "execution_count": 298,
   "id": "d2952d9a",
   "metadata": {},
   "outputs": [],
   "source": [
    "from sklearn.model_selection import train_test_split\n",
    "X_train, X_test, y_train, y_test = train_test_split(X, y, test_size=0.20)"
   ]
  },
  {
   "cell_type": "code",
   "execution_count": 299,
   "id": "31acd8c0",
   "metadata": {},
   "outputs": [],
   "source": [
    "from sklearn.linear_model import SGDRegressor\n",
    "from sklearn.metrics import mean_squared_error\n",
    "from sklearn.metrics import mean_absolute_error\n",
    "from sklearn.preprocessing import StandardScaler\n",
    "scaler = StandardScaler()\n",
    "scaler.fit(X_train)\n",
    "\n",
    "X_train = scaler.transform(X_train)\n",
    "X_test = scaler.transform(X_test)"
   ]
  },
  {
   "cell_type": "markdown",
   "id": "801a8e61",
   "metadata": {},
   "source": [
    "### Подбор гиперпараметров для линейной регрессии"
   ]
  },
  {
   "cell_type": "code",
   "execution_count": 300,
   "id": "604ec6f9",
   "metadata": {},
   "outputs": [
    {
     "name": "stdout",
     "output_type": "stream",
     "text": [
      "Лучшие параметры: {'eta0': 0.003}\n",
      "Лучшая оценка MSE: -0.2652941872616004\n"
     ]
    }
   ],
   "source": [
    "from sklearn.model_selection import RandomizedSearchCV\n",
    "\n",
    "param_dist = {\"eta0\": [ .001, .003, .01, .03, .1, .3, 1, 3]} \n",
    "clf = SGDRegressor(tol=.0001) \n",
    "n_iter_search = 8 \n",
    "random_search = RandomizedSearchCV(clf, \n",
    "                                   param_distributions=param_dist, \n",
    "                                   n_iter=n_iter_search, \n",
    "                                   cv=3, \n",
    "                                   scoring='neg_mean_squared_error') \n",
    "random_search.fit(X_train, y_train) \n",
    "\n",
    "print(\"Лучшие параметры: {}\".format(random_search.best_params_)) \n",
    "print(\"Лучшая оценка MSE: {}\".format(random_search.best_score_))"
   ]
  },
  {
   "cell_type": "markdown",
   "id": "1c8bf9a0",
   "metadata": {},
   "source": [
    "## Линейная регрессия"
   ]
  },
  {
   "cell_type": "markdown",
   "id": "805f1f90",
   "metadata": {},
   "source": [
    "###  [Источник](https://scikit-learn.org/stable/modules/generated/sklearn.linear_model.SGDRegressor.html)"
   ]
  },
  {
   "cell_type": "code",
   "execution_count": 301,
   "id": "200a9139",
   "metadata": {},
   "outputs": [
    {
     "data": {
      "text/plain": [
       "SGDRegressor()"
      ]
     },
     "execution_count": 301,
     "metadata": {},
     "output_type": "execute_result"
    }
   ],
   "source": [
    "clf = SGDRegressor(tol=.001, eta0=0.01) \n",
    "clf.fit(X_train, y_train)"
   ]
  },
  {
   "cell_type": "code",
   "execution_count": 302,
   "id": "fb44538c",
   "metadata": {},
   "outputs": [
    {
     "name": "stdout",
     "output_type": "stream",
     "text": [
      "MSE:  0.22721691379172404\n",
      "RMSE: 0.476672753355721\n",
      "MAE:  0.35244543837297776\n"
     ]
    }
   ],
   "source": [
    "y_pred = clf.predict(X_test)\n",
    "mse = mean_squared_error(y_test, y_pred) \n",
    "print(\"MSE: \",mse)\n",
    "print(\"RMSE: {}\".format(np.sqrt(mse)))\n",
    "mae = mean_absolute_error(y_test, y_pred)\n",
    "print(\"MAE: \",mae)"
   ]
  },
  {
   "cell_type": "code",
   "execution_count": 337,
   "id": "fb993c74",
   "metadata": {
    "scrolled": true
   },
   "outputs": [
    {
     "name": "stdout",
     "output_type": "stream",
     "text": [
      "R2:  0.8391266836497246\n"
     ]
    }
   ],
   "source": [
    "from sklearn.metrics import r2_score\n",
    "print(\"R2: \", r2_score(y_test, y_pred))"
   ]
  },
  {
   "cell_type": "code",
   "execution_count": 304,
   "id": "e18cc7e4",
   "metadata": {},
   "outputs": [
    {
     "data": {
      "text/plain": [
       "array([11.75527296, 11.91923631, 10.512787  , ..., 10.26010139,\n",
       "        9.3987487 , 12.67568494])"
      ]
     },
     "execution_count": 304,
     "metadata": {},
     "output_type": "execute_result"
    }
   ],
   "source": [
    "y_pred"
   ]
  },
  {
   "cell_type": "markdown",
   "id": "9e720314",
   "metadata": {},
   "source": [
    "## Регрессия дерева решений"
   ]
  },
  {
   "cell_type": "code",
   "execution_count": 305,
   "id": "76cfb321",
   "metadata": {},
   "outputs": [
    {
     "data": {
      "text/plain": [
       "DecisionTreeRegressor()"
      ]
     },
     "execution_count": 305,
     "metadata": {},
     "output_type": "execute_result"
    }
   ],
   "source": [
    "from sklearn.tree import DecisionTreeRegressor\n",
    "regressor = DecisionTreeRegressor()\n",
    "regressor.fit(X_train, y_train)"
   ]
  },
  {
   "cell_type": "code",
   "execution_count": 306,
   "id": "ba8a5696",
   "metadata": {},
   "outputs": [],
   "source": [
    "y_pred = regressor.predict(X_test)"
   ]
  },
  {
   "cell_type": "code",
   "execution_count": 307,
   "id": "4c060012",
   "metadata": {},
   "outputs": [
    {
     "data": {
      "text/html": [
       "<div>\n",
       "<style scoped>\n",
       "    .dataframe tbody tr th:only-of-type {\n",
       "        vertical-align: middle;\n",
       "    }\n",
       "\n",
       "    .dataframe tbody tr th {\n",
       "        vertical-align: top;\n",
       "    }\n",
       "\n",
       "    .dataframe thead th {\n",
       "        text-align: right;\n",
       "    }\n",
       "</style>\n",
       "<table border=\"1\" class=\"dataframe\">\n",
       "  <thead>\n",
       "    <tr style=\"text-align: right;\">\n",
       "      <th></th>\n",
       "      <th>Содержание алкоголя</th>\n",
       "      <th>Предсказание</th>\n",
       "    </tr>\n",
       "  </thead>\n",
       "  <tbody>\n",
       "    <tr>\n",
       "      <th>0</th>\n",
       "      <td>11.4</td>\n",
       "      <td>11.8</td>\n",
       "    </tr>\n",
       "    <tr>\n",
       "      <th>1</th>\n",
       "      <td>12.0</td>\n",
       "      <td>12.0</td>\n",
       "    </tr>\n",
       "    <tr>\n",
       "      <th>2</th>\n",
       "      <td>10.8</td>\n",
       "      <td>11.7</td>\n",
       "    </tr>\n",
       "    <tr>\n",
       "      <th>3</th>\n",
       "      <td>8.7</td>\n",
       "      <td>9.0</td>\n",
       "    </tr>\n",
       "    <tr>\n",
       "      <th>4</th>\n",
       "      <td>12.8</td>\n",
       "      <td>13.0</td>\n",
       "    </tr>\n",
       "    <tr>\n",
       "      <th>...</th>\n",
       "      <td>...</td>\n",
       "      <td>...</td>\n",
       "    </tr>\n",
       "    <tr>\n",
       "      <th>1288</th>\n",
       "      <td>12.5</td>\n",
       "      <td>11.0</td>\n",
       "    </tr>\n",
       "    <tr>\n",
       "      <th>1289</th>\n",
       "      <td>11.2</td>\n",
       "      <td>11.2</td>\n",
       "    </tr>\n",
       "    <tr>\n",
       "      <th>1290</th>\n",
       "      <td>9.9</td>\n",
       "      <td>9.9</td>\n",
       "    </tr>\n",
       "    <tr>\n",
       "      <th>1291</th>\n",
       "      <td>9.2</td>\n",
       "      <td>9.3</td>\n",
       "    </tr>\n",
       "    <tr>\n",
       "      <th>1292</th>\n",
       "      <td>13.4</td>\n",
       "      <td>13.4</td>\n",
       "    </tr>\n",
       "  </tbody>\n",
       "</table>\n",
       "<p>1293 rows × 2 columns</p>\n",
       "</div>"
      ],
      "text/plain": [
       "      Содержание алкоголя  Предсказание\n",
       "0                    11.4          11.8\n",
       "1                    12.0          12.0\n",
       "2                    10.8          11.7\n",
       "3                     8.7           9.0\n",
       "4                    12.8          13.0\n",
       "...                   ...           ...\n",
       "1288                 12.5          11.0\n",
       "1289                 11.2          11.2\n",
       "1290                  9.9           9.9\n",
       "1291                  9.2           9.3\n",
       "1292                 13.4          13.4\n",
       "\n",
       "[1293 rows x 2 columns]"
      ]
     },
     "execution_count": 307,
     "metadata": {},
     "output_type": "execute_result"
    }
   ],
   "source": [
    "df=pd.DataFrame({'Содержание алкоголя':y_test, 'Предсказание':y_pred})\n",
    "df"
   ]
  },
  {
   "cell_type": "code",
   "execution_count": 308,
   "id": "a1ddbe62",
   "metadata": {},
   "outputs": [
    {
     "name": "stdout",
     "output_type": "stream",
     "text": [
      "MSE:  0.32614741770940103\n",
      "RMSE: 0.5710931777822259\n",
      "MAE:  0.33793503479040987\n"
     ]
    }
   ],
   "source": [
    "mse = mean_squared_error(y_test, y_pred) \n",
    "print(\"MSE: \",mse)\n",
    "print(\"RMSE: {}\".format(np.sqrt(mse)))\n",
    "mae = mean_absolute_error(y_test, y_pred)\n",
    "print(\"MAE: \",mae)"
   ]
  },
  {
   "cell_type": "code",
   "execution_count": 336,
   "id": "20766687",
   "metadata": {},
   "outputs": [
    {
     "name": "stdout",
     "output_type": "stream",
     "text": [
      "R2:  0.8391266836497246\n"
     ]
    }
   ],
   "source": [
    "print(\"R2: \", r2_score(y_test, y_pred))"
   ]
  },
  {
   "cell_type": "markdown",
   "id": "0a788f8e",
   "metadata": {},
   "source": [
    "## Lasso"
   ]
  },
  {
   "cell_type": "code",
   "execution_count": 310,
   "id": "fb1b4294",
   "metadata": {},
   "outputs": [
    {
     "data": {
      "text/plain": [
       "LassoCV()"
      ]
     },
     "execution_count": 310,
     "metadata": {},
     "output_type": "execute_result"
    }
   ],
   "source": [
    "clf = linear_model.LassoCV()\n",
    "clf.fit(X_train, y_train)"
   ]
  },
  {
   "cell_type": "code",
   "execution_count": 311,
   "id": "45619a74",
   "metadata": {},
   "outputs": [
    {
     "name": "stdout",
     "output_type": "stream",
     "text": [
      "MSE:  0.22340981744044067\n",
      "RMSE: 0.4726624772926667\n",
      "MAE:  0.3469065378577377\n"
     ]
    }
   ],
   "source": [
    "y_pred = clf.predict(X_test)\n",
    "mse = mean_squared_error(y_test, y_pred) \n",
    "print(\"MSE: \",mse)\n",
    "print(\"RMSE: {}\".format(np.sqrt(mse)))\n",
    "mae = mean_absolute_error(y_test, y_pred)\n",
    "print(\"MAE: \",mae)"
   ]
  },
  {
   "cell_type": "code",
   "execution_count": 335,
   "id": "aa73203e",
   "metadata": {},
   "outputs": [
    {
     "name": "stdout",
     "output_type": "stream",
     "text": [
      "R2:  0.8391266836497246\n"
     ]
    }
   ],
   "source": [
    "print(\"R2: \", r2_score(y_test, y_pred))"
   ]
  },
  {
   "cell_type": "code",
   "execution_count": 313,
   "id": "7df1355d",
   "metadata": {},
   "outputs": [
    {
     "data": {
      "text/html": [
       "<div>\n",
       "<style scoped>\n",
       "    .dataframe tbody tr th:only-of-type {\n",
       "        vertical-align: middle;\n",
       "    }\n",
       "\n",
       "    .dataframe tbody tr th {\n",
       "        vertical-align: top;\n",
       "    }\n",
       "\n",
       "    .dataframe thead th {\n",
       "        text-align: right;\n",
       "    }\n",
       "</style>\n",
       "<table border=\"1\" class=\"dataframe\">\n",
       "  <thead>\n",
       "    <tr style=\"text-align: right;\">\n",
       "      <th></th>\n",
       "      <th>Содержание алкоголя</th>\n",
       "      <th>Предсказание</th>\n",
       "    </tr>\n",
       "  </thead>\n",
       "  <tbody>\n",
       "    <tr>\n",
       "      <th>0</th>\n",
       "      <td>11.4</td>\n",
       "      <td>11.745868</td>\n",
       "    </tr>\n",
       "    <tr>\n",
       "      <th>1</th>\n",
       "      <td>12.0</td>\n",
       "      <td>11.872220</td>\n",
       "    </tr>\n",
       "    <tr>\n",
       "      <th>2</th>\n",
       "      <td>10.8</td>\n",
       "      <td>10.459933</td>\n",
       "    </tr>\n",
       "    <tr>\n",
       "      <th>3</th>\n",
       "      <td>8.7</td>\n",
       "      <td>9.412428</td>\n",
       "    </tr>\n",
       "    <tr>\n",
       "      <th>4</th>\n",
       "      <td>12.8</td>\n",
       "      <td>12.193295</td>\n",
       "    </tr>\n",
       "    <tr>\n",
       "      <th>...</th>\n",
       "      <td>...</td>\n",
       "      <td>...</td>\n",
       "    </tr>\n",
       "    <tr>\n",
       "      <th>1288</th>\n",
       "      <td>12.5</td>\n",
       "      <td>10.528099</td>\n",
       "    </tr>\n",
       "    <tr>\n",
       "      <th>1289</th>\n",
       "      <td>11.2</td>\n",
       "      <td>11.245661</td>\n",
       "    </tr>\n",
       "    <tr>\n",
       "      <th>1290</th>\n",
       "      <td>9.9</td>\n",
       "      <td>10.258426</td>\n",
       "    </tr>\n",
       "    <tr>\n",
       "      <th>1291</th>\n",
       "      <td>9.2</td>\n",
       "      <td>9.410978</td>\n",
       "    </tr>\n",
       "    <tr>\n",
       "      <th>1292</th>\n",
       "      <td>13.4</td>\n",
       "      <td>12.690126</td>\n",
       "    </tr>\n",
       "  </tbody>\n",
       "</table>\n",
       "<p>1293 rows × 2 columns</p>\n",
       "</div>"
      ],
      "text/plain": [
       "      Содержание алкоголя  Предсказание\n",
       "0                    11.4     11.745868\n",
       "1                    12.0     11.872220\n",
       "2                    10.8     10.459933\n",
       "3                     8.7      9.412428\n",
       "4                    12.8     12.193295\n",
       "...                   ...           ...\n",
       "1288                 12.5     10.528099\n",
       "1289                 11.2     11.245661\n",
       "1290                  9.9     10.258426\n",
       "1291                  9.2      9.410978\n",
       "1292                 13.4     12.690126\n",
       "\n",
       "[1293 rows x 2 columns]"
      ]
     },
     "execution_count": 313,
     "metadata": {},
     "output_type": "execute_result"
    }
   ],
   "source": [
    "df=pd.DataFrame({'Содержание алкоголя':y_test, 'Предсказание':y_pred})\n",
    "df"
   ]
  },
  {
   "cell_type": "markdown",
   "id": "2523130a",
   "metadata": {},
   "source": [
    "## Гребневая регрессия"
   ]
  },
  {
   "cell_type": "code",
   "execution_count": 314,
   "id": "c8c85fde",
   "metadata": {},
   "outputs": [
    {
     "data": {
      "text/plain": [
       "RidgeCV(alphas=array([ 0.1,  1. , 10. ]))"
      ]
     },
     "execution_count": 314,
     "metadata": {},
     "output_type": "execute_result"
    }
   ],
   "source": [
    "from sklearn.linear_model import RidgeCV\n",
    "\n",
    "clf = linear_model.RidgeCV()\n",
    "clf.fit(X_train, y_train)"
   ]
  },
  {
   "cell_type": "code",
   "execution_count": 315,
   "id": "f5a4f184",
   "metadata": {},
   "outputs": [
    {
     "name": "stdout",
     "output_type": "stream",
     "text": [
      "MSE:  0.22442249611281304\n",
      "RMSE: 0.4737325153636945\n",
      "MAE:  0.3485937136319756\n"
     ]
    }
   ],
   "source": [
    "y_pred = clf.predict(X_test)\n",
    "mse = mean_squared_error(y_test, y_pred) \n",
    "print(\"MSE: \",mse)\n",
    "print(\"RMSE: {}\".format(np.sqrt(mse)))\n",
    "mae = mean_absolute_error(y_test, y_pred)\n",
    "print(\"MAE: \",mae)"
   ]
  },
  {
   "cell_type": "code",
   "execution_count": 334,
   "id": "efaee443",
   "metadata": {},
   "outputs": [
    {
     "name": "stdout",
     "output_type": "stream",
     "text": [
      "R2:  0.8391266836497246\n"
     ]
    }
   ],
   "source": [
    "print(\"R2: \", r2_score(y_test, y_pred))"
   ]
  },
  {
   "cell_type": "code",
   "execution_count": 317,
   "id": "7f0869e5",
   "metadata": {},
   "outputs": [
    {
     "data": {
      "text/html": [
       "<div>\n",
       "<style scoped>\n",
       "    .dataframe tbody tr th:only-of-type {\n",
       "        vertical-align: middle;\n",
       "    }\n",
       "\n",
       "    .dataframe tbody tr th {\n",
       "        vertical-align: top;\n",
       "    }\n",
       "\n",
       "    .dataframe thead th {\n",
       "        text-align: right;\n",
       "    }\n",
       "</style>\n",
       "<table border=\"1\" class=\"dataframe\">\n",
       "  <thead>\n",
       "    <tr style=\"text-align: right;\">\n",
       "      <th></th>\n",
       "      <th>Содержание алкоголя</th>\n",
       "      <th>Предсказание</th>\n",
       "    </tr>\n",
       "  </thead>\n",
       "  <tbody>\n",
       "    <tr>\n",
       "      <th>0</th>\n",
       "      <td>11.4</td>\n",
       "      <td>11.744449</td>\n",
       "    </tr>\n",
       "    <tr>\n",
       "      <th>1</th>\n",
       "      <td>12.0</td>\n",
       "      <td>11.865922</td>\n",
       "    </tr>\n",
       "    <tr>\n",
       "      <th>2</th>\n",
       "      <td>10.8</td>\n",
       "      <td>10.470379</td>\n",
       "    </tr>\n",
       "    <tr>\n",
       "      <th>3</th>\n",
       "      <td>8.7</td>\n",
       "      <td>9.423969</td>\n",
       "    </tr>\n",
       "    <tr>\n",
       "      <th>4</th>\n",
       "      <td>12.8</td>\n",
       "      <td>12.182821</td>\n",
       "    </tr>\n",
       "    <tr>\n",
       "      <th>...</th>\n",
       "      <td>...</td>\n",
       "      <td>...</td>\n",
       "    </tr>\n",
       "    <tr>\n",
       "      <th>1288</th>\n",
       "      <td>12.5</td>\n",
       "      <td>10.528480</td>\n",
       "    </tr>\n",
       "    <tr>\n",
       "      <th>1289</th>\n",
       "      <td>11.2</td>\n",
       "      <td>11.248846</td>\n",
       "    </tr>\n",
       "    <tr>\n",
       "      <th>1290</th>\n",
       "      <td>9.9</td>\n",
       "      <td>10.268056</td>\n",
       "    </tr>\n",
       "    <tr>\n",
       "      <th>1291</th>\n",
       "      <td>9.2</td>\n",
       "      <td>9.412825</td>\n",
       "    </tr>\n",
       "    <tr>\n",
       "      <th>1292</th>\n",
       "      <td>13.4</td>\n",
       "      <td>12.677450</td>\n",
       "    </tr>\n",
       "  </tbody>\n",
       "</table>\n",
       "<p>1293 rows × 2 columns</p>\n",
       "</div>"
      ],
      "text/plain": [
       "      Содержание алкоголя  Предсказание\n",
       "0                    11.4     11.744449\n",
       "1                    12.0     11.865922\n",
       "2                    10.8     10.470379\n",
       "3                     8.7      9.423969\n",
       "4                    12.8     12.182821\n",
       "...                   ...           ...\n",
       "1288                 12.5     10.528480\n",
       "1289                 11.2     11.248846\n",
       "1290                  9.9     10.268056\n",
       "1291                  9.2      9.412825\n",
       "1292                 13.4     12.677450\n",
       "\n",
       "[1293 rows x 2 columns]"
      ]
     },
     "execution_count": 317,
     "metadata": {},
     "output_type": "execute_result"
    }
   ],
   "source": [
    "df=pd.DataFrame({'Содержание алкоголя':y_test, 'Предсказание':y_pred})\n",
    "df"
   ]
  },
  {
   "cell_type": "markdown",
   "id": "6f6802a0",
   "metadata": {},
   "source": [
    "## Elastic Net регрессия"
   ]
  },
  {
   "cell_type": "code",
   "execution_count": 318,
   "id": "d4a9c8fa",
   "metadata": {},
   "outputs": [
    {
     "data": {
      "text/plain": [
       "ElasticNetCV()"
      ]
     },
     "execution_count": 318,
     "metadata": {},
     "output_type": "execute_result"
    }
   ],
   "source": [
    "from sklearn.linear_model import ElasticNetCV\n",
    "clf = linear_model.ElasticNetCV()\n",
    "clf.fit(X_train, y_train)"
   ]
  },
  {
   "cell_type": "code",
   "execution_count": 319,
   "id": "8ea825d9",
   "metadata": {},
   "outputs": [
    {
     "name": "stdout",
     "output_type": "stream",
     "text": [
      "MSE:  0.22378216859996183\n",
      "RMSE: 0.47305620025527817\n",
      "MAE:  0.34751133764567266\n"
     ]
    }
   ],
   "source": [
    "y_pred = clf.predict(X_test)\n",
    "mse = mean_squared_error(y_test, y_pred) \n",
    "print(\"MSE: \",mse)\n",
    "print(\"RMSE: {}\".format(np.sqrt(mse)))\n",
    "mae = mean_absolute_error(y_test, y_pred)\n",
    "print(\"MAE: \",mae)"
   ]
  },
  {
   "cell_type": "code",
   "execution_count": 333,
   "id": "0f30e132",
   "metadata": {},
   "outputs": [
    {
     "name": "stdout",
     "output_type": "stream",
     "text": [
      "R2:  0.8391266836497246\n"
     ]
    }
   ],
   "source": [
    "print(\"R2: \", r2_score(y_test, y_pred))"
   ]
  },
  {
   "cell_type": "code",
   "execution_count": 321,
   "id": "d0d32f34",
   "metadata": {},
   "outputs": [
    {
     "data": {
      "text/html": [
       "<div>\n",
       "<style scoped>\n",
       "    .dataframe tbody tr th:only-of-type {\n",
       "        vertical-align: middle;\n",
       "    }\n",
       "\n",
       "    .dataframe tbody tr th {\n",
       "        vertical-align: top;\n",
       "    }\n",
       "\n",
       "    .dataframe thead th {\n",
       "        text-align: right;\n",
       "    }\n",
       "</style>\n",
       "<table border=\"1\" class=\"dataframe\">\n",
       "  <thead>\n",
       "    <tr style=\"text-align: right;\">\n",
       "      <th></th>\n",
       "      <th>Содержание алкоголя</th>\n",
       "      <th>Предсказание</th>\n",
       "    </tr>\n",
       "  </thead>\n",
       "  <tbody>\n",
       "    <tr>\n",
       "      <th>0</th>\n",
       "      <td>11.4</td>\n",
       "      <td>11.746795</td>\n",
       "    </tr>\n",
       "    <tr>\n",
       "      <th>1</th>\n",
       "      <td>12.0</td>\n",
       "      <td>11.871460</td>\n",
       "    </tr>\n",
       "    <tr>\n",
       "      <th>2</th>\n",
       "      <td>10.8</td>\n",
       "      <td>10.464831</td>\n",
       "    </tr>\n",
       "    <tr>\n",
       "      <th>3</th>\n",
       "      <td>8.7</td>\n",
       "      <td>9.416065</td>\n",
       "    </tr>\n",
       "    <tr>\n",
       "      <th>4</th>\n",
       "      <td>12.8</td>\n",
       "      <td>12.189735</td>\n",
       "    </tr>\n",
       "    <tr>\n",
       "      <th>...</th>\n",
       "      <td>...</td>\n",
       "      <td>...</td>\n",
       "    </tr>\n",
       "    <tr>\n",
       "      <th>1288</th>\n",
       "      <td>12.5</td>\n",
       "      <td>10.528938</td>\n",
       "    </tr>\n",
       "    <tr>\n",
       "      <th>1289</th>\n",
       "      <td>11.2</td>\n",
       "      <td>11.246448</td>\n",
       "    </tr>\n",
       "    <tr>\n",
       "      <th>1290</th>\n",
       "      <td>9.9</td>\n",
       "      <td>10.261248</td>\n",
       "    </tr>\n",
       "    <tr>\n",
       "      <th>1291</th>\n",
       "      <td>9.2</td>\n",
       "      <td>9.409978</td>\n",
       "    </tr>\n",
       "    <tr>\n",
       "      <th>1292</th>\n",
       "      <td>13.4</td>\n",
       "      <td>12.686207</td>\n",
       "    </tr>\n",
       "  </tbody>\n",
       "</table>\n",
       "<p>1293 rows × 2 columns</p>\n",
       "</div>"
      ],
      "text/plain": [
       "      Содержание алкоголя  Предсказание\n",
       "0                    11.4     11.746795\n",
       "1                    12.0     11.871460\n",
       "2                    10.8     10.464831\n",
       "3                     8.7      9.416065\n",
       "4                    12.8     12.189735\n",
       "...                   ...           ...\n",
       "1288                 12.5     10.528938\n",
       "1289                 11.2     11.246448\n",
       "1290                  9.9     10.261248\n",
       "1291                  9.2      9.409978\n",
       "1292                 13.4     12.686207\n",
       "\n",
       "[1293 rows x 2 columns]"
      ]
     },
     "execution_count": 321,
     "metadata": {},
     "output_type": "execute_result"
    }
   ],
   "source": [
    "df=pd.DataFrame({'Содержание алкоголя':y_test, 'Предсказание':y_pred})\n",
    "df"
   ]
  },
  {
   "cell_type": "markdown",
   "id": "aa052566",
   "metadata": {},
   "source": [
    "## Реализация алгоритма линейной регрессии"
   ]
  },
  {
   "cell_type": "code",
   "execution_count": 326,
   "id": "58f23e69",
   "metadata": {},
   "outputs": [],
   "source": [
    "X_train, X_test, y_train, y_test = train_test_split(X, y, test_size=0.20)\n",
    "\n",
    "scaler = StandardScaler()\n",
    "scaler.fit(X_train)\n",
    "\n",
    "X_train = scaler.transform(X_train)\n",
    "X_test = scaler.transform(X_test)"
   ]
  },
  {
   "cell_type": "code",
   "execution_count": 340,
   "id": "1998ae34",
   "metadata": {},
   "outputs": [
    {
     "data": {
      "text/plain": [
       "array([[ 0.   ,  8.1  ,  0.24 , ...,  3.11 ,  0.49 ,  6.   ],\n",
       "       [ 0.   ,  8.6  ,  0.2  , ...,  3.11 ,  0.49 ,  7.   ],\n",
       "       [ 1.   , 10.7  ,  0.67 , ...,  3.28 ,  0.98 ,  6.   ],\n",
       "       ...,\n",
       "       [ 1.   ,  9.   ,  0.45 , ...,  3.35 ,  0.57 ,  5.   ],\n",
       "       [ 0.   ,  9.4  ,  0.28 , ...,  3.11 ,  0.49 ,  5.   ],\n",
       "       [ 0.   ,  4.8  ,  0.225, ...,  3.31 ,  0.4  ,  6.   ]])"
      ]
     },
     "execution_count": 340,
     "metadata": {},
     "output_type": "execute_result"
    }
   ],
   "source": [
    "X"
   ]
  },
  {
   "cell_type": "code",
   "execution_count": 344,
   "id": "36647f53",
   "metadata": {},
   "outputs": [],
   "source": [
    "class LinearRegression() :\n",
    "      \n",
    "    def __init__(self, learning_rate, iterations) :       \n",
    "        self.learning_rate = learning_rate         \n",
    "        self.iterations = iterations\n",
    "          \n",
    "    # Обучение модели              \n",
    "    def fit(self, X, y) :                   \n",
    "        self.m, self.n = X.shape\n",
    "          \n",
    "        # Инициализация весов          \n",
    "        self.W = np.zeros(self.n)         \n",
    "        self.b = 0          \n",
    "        self.X = X          \n",
    "        self.y = y\n",
    "                     \n",
    "        for i in range(self.iterations) :          \n",
    "            self.update_weights()             \n",
    "        return self\n",
    "      \n",
    "    def update_weights(self) :             \n",
    "        y_pred = self.predict(self.X)         \n",
    "        # подсчет градиентов        \n",
    "        dW = - ( 2 * ( self.X.T ).dot( self.y - y_pred )  ) / self.m       \n",
    "        db = - 2 * np.sum( self.y - y_pred ) / self.m    \n",
    "        \n",
    "        # пересчет весов      \n",
    "        self.W = self.W - self.learning_rate * dW      \n",
    "        self.b = self.b - self.learning_rate * db\n",
    "          \n",
    "        return self\n",
    "      \n",
    "    # Функция предсказания   \n",
    "    def predict( self, X ) :\n",
    "      \n",
    "        return X.dot( self.W ) + self.b"
   ]
  },
  {
   "cell_type": "code",
   "execution_count": 339,
   "id": "486af5a6",
   "metadata": {},
   "outputs": [
    {
     "name": "stdout",
     "output_type": "stream",
     "text": [
      "MSE:  0.22986985577291963\n",
      "RMSE: 0.47944744839546244\n",
      "MAE:  0.3770361587579432\n",
      "R2:  0.8391266836497246\n"
     ]
    }
   ],
   "source": [
    "model = LinearRegression(iterations = 1000, learning_rate = 0.01)\n",
    "model.fit(X_train, y_train)\n",
    "      \n",
    "# Предсказания\n",
    "  \n",
    "y_pred = model.predict(X_test)\n",
    "      \n",
    "mse = mean_squared_error(y_test, y_pred) \n",
    "print(\"MSE: \",mse)\n",
    "print(\"RMSE: {}\".format(np.sqrt(mse)))\n",
    "mae = mean_absolute_error(y_test, y_pred)\n",
    "print(\"MAE: \",mae)\n",
    "\n",
    "print(\"R2: \", r2_score(y_test, y_pred))"
   ]
  },
  {
   "cell_type": "code",
   "execution_count": null,
   "id": "e265dee0",
   "metadata": {},
   "outputs": [],
   "source": []
  }
 ],
 "metadata": {
  "kernelspec": {
   "display_name": "Python 3",
   "language": "python",
   "name": "python3"
  },
  "language_info": {
   "codemirror_mode": {
    "name": "ipython",
    "version": 3
   },
   "file_extension": ".py",
   "mimetype": "text/x-python",
   "name": "python",
   "nbconvert_exporter": "python",
   "pygments_lexer": "ipython3",
   "version": "3.8.8"
  }
 },
 "nbformat": 4,
 "nbformat_minor": 5
}
