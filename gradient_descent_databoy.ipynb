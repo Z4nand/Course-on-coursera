{
 "cells": [
  {
   "cell_type": "code",
   "execution_count": 402,
   "metadata": {
    "id": "-HbmxTNtmFsE"
   },
   "outputs": [],
   "source": [
    "import random\n",
    "from numpy import asarray\n",
    "from numpy import arange\n",
    "from numpy.random import rand\n",
    "import numpy as np\n",
    "import matplotlib.pyplot as plt"
   ]
  },
  {
   "cell_type": "code",
   "execution_count": 3,
   "metadata": {
    "id": "GuhM_MmomKce"
   },
   "outputs": [],
   "source": [
    "def objective(x):\n",
    "    return x**2.0"
   ]
  },
  {
   "cell_type": "code",
   "execution_count": 4,
   "metadata": {
    "colab": {
     "base_uri": "https://localhost:8080/"
    },
    "id": "sxlM19AZmQdG",
    "outputId": "5605c37a-16ad-468f-dbd9-7a50604250a1"
   },
   "outputs": [
    {
     "data": {
      "text/plain": [
       "100.0"
      ]
     },
     "execution_count": 4,
     "metadata": {},
     "output_type": "execute_result"
    }
   ],
   "source": [
    "objective(10)"
   ]
  },
  {
   "cell_type": "code",
   "execution_count": 453,
   "metadata": {
    "id": "6IAkJU-Uo4ds"
   },
   "outputs": [],
   "source": [
    "bounds = np.array([[-10.0, 10.0]]) "
   ]
  },
  {
   "cell_type": "code",
   "execution_count": 454,
   "metadata": {
    "colab": {
     "base_uri": "https://localhost:8080/"
    },
    "id": "2zpXY3ACwuOl",
    "outputId": "ff15e60b-edb8-4072-ccf8-fb2b24c96dbf"
   },
   "outputs": [
    {
     "data": {
      "text/plain": [
       "array([-8.51162901])"
      ]
     },
     "execution_count": 454,
     "metadata": {},
     "output_type": "execute_result"
    }
   ],
   "source": [
    "x = bounds[:, 0] + rand(len(bounds)) * (bounds[:, 1] - bounds[:, 0])#Генерация рандомного числа\n",
    "x"
   ]
  },
  {
   "cell_type": "code",
   "execution_count": 455,
   "metadata": {
    "id": "8LSZL5FqpDrT"
   },
   "outputs": [],
   "source": [
    "inputs = []\n",
    "outputs = []"
   ]
  },
  {
   "cell_type": "code",
   "execution_count": 457,
   "metadata": {
    "id": "MvXAyu_-o-Mg"
   },
   "outputs": [],
   "source": [
    "for i in range(1000):\n",
    "  x = bounds[:, 0] + rand(len(bounds)) * (bounds[:, 1] - bounds[:, 0])\n",
    "  y = objective(x)\n",
    "  inputs.append(x)\n",
    "  outputs.append(y)\n",
    "  "
   ]
  },
  {
   "cell_type": "code",
   "execution_count": 460,
   "metadata": {
    "colab": {
     "base_uri": "https://localhost:8080/",
     "height": 281
    },
    "id": "5wBCc7ebmi4e",
    "outputId": "139a87bc-c9e7-4aeb-ce3a-f15b7d5c4d2a"
   },
   "outputs": [
    {
     "data": {
      "text/plain": [
       "<matplotlib.collections.PathCollection at 0x1eafccd6dc0>"
      ]
     },
     "execution_count": 460,
     "metadata": {},
     "output_type": "execute_result"
    },
    {
     "data": {
      "image/png": "[encoded data removed]",
      "text/plain": [
       "<Figure size 432x288 with 1 Axes>"
      ]
     },
     "metadata": {
      "needs_background": "light"
     },
     "output_type": "display_data"
    }
   ],
   "source": [
    "plt.scatter(inputs, outputs)\n",
    "# plot the solutions found\n",
    "# plt.plot(solutions, scores, '.-', color='red')"
   ]
  },
  {
   "cell_type": "code",
   "execution_count": 483,
   "metadata": {
    "colab": {
     "base_uri": "https://localhost:8080/"
    },
    "id": "KqZFPJRdnfHy",
    "outputId": "d8bbbad5-5b6d-4440-fbd9-9f4059b3fe7b"
   },
   "outputs": [
    {
     "data": {
      "text/plain": [
       "array([-8.37488776])"
      ]
     },
     "execution_count": 483,
     "metadata": {},
     "output_type": "execute_result"
    }
   ],
   "source": [
    "x = bounds[:, 0] + rand(len(bounds)) * (bounds[:, 1] - bounds[:, 0])\n",
    "x"
   ]
  },
  {
   "cell_type": "code",
   "execution_count": 484,
   "metadata": {
    "id": "-CaJFRf7p4TA"
   },
   "outputs": [],
   "source": [
    "def derivative(x): #Производная от х в квадрате\n",
    "\treturn x * 2.0"
   ]
  },
  {
   "cell_type": "code",
   "execution_count": 485,
   "metadata": {
    "colab": {
     "base_uri": "https://localhost:8080/"
    },
    "id": "7EJILQi1319_",
    "outputId": "c91350c5-6abb-4567-edf4-6c0a8c9a03f6"
   },
   "outputs": [
    {
     "data": {
      "text/plain": [
       "array([-16.74977552])"
      ]
     },
     "execution_count": 485,
     "metadata": {},
     "output_type": "execute_result"
    }
   ],
   "source": [
    "derivative(x)"
   ]
  },
  {
   "cell_type": "code",
   "execution_count": null,
   "metadata": {
    "id": "CvDkSv2J4DCL"
   },
   "outputs": [],
   "source": []
  },
  {
   "cell_type": "code",
   "execution_count": null,
   "metadata": {
    "colab": {
     "base_uri": "https://localhost:8080/"
    },
    "id": "aGTqm_mGp59B",
    "outputId": "d767a2db-f83f-420f-dea6-a1f19e56f5cd"
   },
   "outputs": [
    {
     "data": {
      "text/plain": [
       "array([-4.21955473])"
      ]
     },
     "execution_count": 44,
     "metadata": {
      "tags": []
     },
     "output_type": "execute_result"
    }
   ],
   "source": [
    "# new_x = -8 - (-16) = 8\n",
    "new_x = x - 0.1*derivative(x)\n",
    "new_x"
   ]
  },
  {
   "cell_type": "code",
   "execution_count": null,
   "metadata": {
    "colab": {
     "base_uri": "https://localhost:8080/"
    },
    "id": "eUiTqfjYqhfb",
    "outputId": "9ef4ec81-ef35-48a4-85f1-a08fd194d171"
   },
   "outputs": [
    {
     "data": {
      "text/plain": [
       "array([-3.37564379])"
      ]
     },
     "execution_count": 45,
     "metadata": {
      "tags": []
     },
     "output_type": "execute_result"
    }
   ],
   "source": [
    "x = new_x\n",
    "new_x = x - 0.1*derivative(x)\n",
    "new_x\n"
   ]
  },
  {
   "cell_type": "code",
   "execution_count": 499,
   "metadata": {
    "colab": {
     "base_uri": "https://localhost:8080/"
    },
    "id": "uPAagT5wrT6g",
    "outputId": "0525959d-13b3-4be1-c875-18faa22ef60e"
   },
   "outputs": [
    {
     "data": {
      "text/plain": [
       "array([9.20650026])"
      ]
     },
     "execution_count": 499,
     "metadata": {},
     "output_type": "execute_result"
    }
   ],
   "source": [
    "x = bounds[:, 0] + rand(len(bounds)) * (bounds[:, 1] - bounds[:, 0])\n",
    "x"
   ]
  },
  {
   "cell_type": "code",
   "execution_count": 500,
   "metadata": {
    "id": "a4soJN5SsPMV"
   },
   "outputs": [],
   "source": [
    "solutions = []\n",
    "evaluations = []"
   ]
  },
  {
   "cell_type": "code",
   "execution_count": 503,
   "metadata": {
    "colab": {
     "base_uri": "https://localhost:8080/",
     "height": 606
    },
    "id": "71fYt3FfrUqj",
    "outputId": "32086704-122c-4892-ae6b-f2ce7f615996"
   },
   "outputs": [
    {
     "name": "stdout",
     "output_type": "stream",
     "text": [
      ">0 f([0.08491498]) = 0.01127\n",
      ">1 f([0.06793198]) = 0.00721\n",
      ">2 f([0.05434559]) = 0.00461\n",
      ">3 f([0.04347647]) = 0.00295\n",
      ">4 f([0.03478117]) = 0.00189\n",
      ">5 f([0.02782494]) = 0.00121\n",
      ">6 f([0.02225995]) = 0.00077\n",
      ">7 f([0.01780796]) = 0.00050\n",
      ">8 f([0.01424637]) = 0.00032\n",
      ">9 f([0.0113971]) = 0.00020\n",
      ">10 f([0.00911768]) = 0.00013\n",
      ">11 f([0.00729414]) = 0.00008\n",
      ">12 f([0.00583531]) = 0.00005\n",
      ">13 f([0.00466825]) = 0.00003\n",
      ">14 f([0.0037346]) = 0.00002\n",
      ">15 f([0.00298768]) = 0.00001\n",
      ">16 f([0.00239014]) = 0.00001\n",
      ">17 f([0.00191212]) = 0.00001\n",
      ">18 f([0.00152969]) = 0.00000\n",
      ">19 f([0.00122375]) = 0.00000\n"
     ]
    },
    {
     "data": {
      "text/plain": [
       "<matplotlib.collections.PathCollection at 0x1eafd24bdc0>"
      ]
     },
     "execution_count": 503,
     "metadata": {},
     "output_type": "execute_result"
    },
    {
     "data": {
      "image/png": "[encoded data removed]",
      "text/plain": [
       "<Figure size 432x288 with 1 Axes>"
      ]
     },
     "metadata": {
      "needs_background": "light"
     },
     "output_type": "display_data"
    }
   ],
   "source": [
    "for i in range(20):\n",
    "  solutions.append(x)\n",
    "  x_evaluation = objective(x)\n",
    "  evaluations.append(x_evaluation)\n",
    "\n",
    "  gradient = derivative(x)\n",
    "  new_x = x - 0.1 * gradient\n",
    "  x = new_x\n",
    "  print('>%d f(%s) = %.5f' % (i, x, x_evaluation))\n",
    "plt.scatter(inputs, outputs)\n",
    "# plot the solutions found\n",
    "plt.scatter(solutions, evaluations, color='red')"
   ]
  },
  {
   "cell_type": "code",
   "execution_count": null,
   "metadata": {
    "id": "vVrxux54tOtr"
   },
   "outputs": [],
   "source": []
  }
 ],
 "metadata": {
  "colab": {
   "name": "gradient_descent_databoy.ipynb",
   "provenance": []
  },
  "kernelspec": {
   "display_name": "Python 3",
   "language": "python",
   "name": "python3"
  },
  "language_info": {
   "codemirror_mode": {
    "name": "ipython",
    "version": 3
   },
   "file_extension": ".py",
   "mimetype": "text/x-python",
   "name": "python",
   "nbconvert_exporter": "python",
   "pygments_lexer": "ipython3",
   "version": "3.8.8"
  }
 },
 "nbformat": 4,
 "nbformat_minor": 1
}
